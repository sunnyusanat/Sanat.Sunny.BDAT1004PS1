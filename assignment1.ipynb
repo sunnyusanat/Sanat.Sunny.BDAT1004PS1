{
 "cells": [
  {
   "cell_type": "markdown",
   "id": "24ccf810",
   "metadata": {},
   "source": [
    "#qstn no:1\n",
    "What data type is each of the following?\n",
    "a) 5 \n",
    "b) 5.0\n",
    "c)5 > 1\n",
    "d)'5'\n",
    "e)5 * 2\n",
    "f)'5' * 2\n",
    "g)'5' + '2'\n",
    "h)5 / 2\n",
    "i)5 % 2\n",
    "j){5, 2, 1}\n",
    "k)5 == 3\n",
    "l)Pi (the number)\n",
    "\n",
    "ANSWERS:\n",
    "a)=Integer\n",
    "b)=Float\n",
    "c)=Boolean\n",
    "d)=String\n",
    "e)=Integer\n",
    "f)=String\n",
    "g)=String\n",
    "h)=Float\n",
    "i)=Integer\n",
    "j)=set\n",
    "k)=Boolean\n",
    "l)=Float."
   ]
  },
  {
   "cell_type": "code",
   "execution_count": null,
   "id": "2a032d11",
   "metadata": {},
   "outputs": [],
   "source": [
    "#Qstn no:2\n",
    "\n",
    "##Write (and evaluate) C# expressions that answer these questions:\n",
    "##a. How many letters are there in 'Supercalifragilisticexpialidocious'?\n",
    "#b. Does 'Supercalifragilisticexpialidocious' contain 'ice' as a substring?\n",
    "#c. Which of the following words is the longest: \n",
    "#Supercalifragilisticexpialidocious, Honorificabilitudinitatibus, or \n",
    "#Bababadalgharaghtakamminarronnkonn? \n",
    "#d. Which composer comes first in the dictionary: 'Berlioz', 'Borodin', 'Brian', \n",
    "#'Bartok', 'Bellini', 'Buxtehude', 'Bernstein'. Which one comes last?\n",
    "\n",
    "\n",
    "#ANSWERS\n",
    "#a) using System;\n",
    "\n",
    " # class Program\n",
    " # {\n",
    " #  static void Main()\n",
    " #       //x=the given word\n",
    " #   {\n",
    " #       string x = \"Supercalifragilisticexpialidocious\";\n",
    " #       int numberOfLetters = x.Length;\n",
    "\n",
    "  #      Console.WriteLine($\"Number of letters in '{x}': {numberOfLetters}\");\n",
    "   # }\n",
    "#}\n",
    "#Answer of a)=34\n",
    "\n",
    "\n",
    "ANSWER(b)\n",
    "#string x = \"Supercalifragilisticexpialidocious\";\n",
    "#Console.WriteLine(x.Contains(\"ice\"));\n",
    "\n",
    "#ANSWER(b):True.\n",
    "\n",
    "ANSWER (C)\n",
    "\n",
    "#class Program\n",
    "#{\n",
    " #   static void Main()\n",
    "  #      //WHERE X= THE GIVEN WORD\n",
    "   # {\n",
    "    #    string X1 = \"Supercalifragilisticexpialidocious\";\n",
    "     #   string X2 = \"Honorificabilitudinitatibus\";\n",
    "      #  string X3 = \"Bababadalgharaghtakamminarronnkonn\";\n",
    "\n",
    "       # string longestWord = GetLongestWord(X1, X2, X3);\n",
    "\n",
    "        #Console.WriteLine($\"The longest word is: {longestWord}\");\n",
    "   # }\n",
    "\n",
    "    #static string GetLongestWord(params string[] words)\n",
    "    #{\n",
    "     #   string longestWord = \"\";\n",
    "      #  foreach (string word in words)\n",
    "       # {\n",
    "        #    if (word.Length > longestWord.Length)\n",
    "         #   {\n",
    "          #      longestWord = word;\n",
    "           # }\n",
    "        #}\n",
    "        #return longestWord;\n",
    "    #}\n",
    "#}\n",
    "\n",
    "\n",
    "#ANSWER(C)=\"Supercalifragilisticexpialidocious\";\n",
    "\n",
    "ANSWER(d)\n",
    "\n",
    "#class Program\n",
    "#{\n",
    " #   static void Main()\n",
    "  #      //where x=composors\n",
    "   # {\n",
    "    #    string[] x = { \"Berlioz\", \"Borodin\", \"Brian\", \"Bartok\", \"Bellini\", \"Buxtehude\", \"Bernstein\" };\n",
    "\n",
    "#        Array.Sort(x); // Sort the array alphabetically\n",
    "\n",
    " #       string firstComposer = x[0];\n",
    "  #      string lastComposer = x[x.Length - 1];\n",
    "\n",
    "   #     Console.WriteLine($\"First composer in the dictionary: {firstComposer}\");\n",
    "    #    Console.WriteLine($\"Last composer in the dictionary: {lastComposer}\");\n",
    "   # }\n",
    "#}\n",
    "# ANSWER(FIRST COMPOSER=\"BARTOK\"\n",
    "#       LAST COMPOSER=\"BUXTEHUDE\")\n",
    "\n"
   ]
  },
  {
   "cell_type": "code",
   "execution_count": null,
   "id": "1e9b8880",
   "metadata": {},
   "outputs": [],
   "source": [
    "QSTN4:ANSWERS\n",
    "    \n",
    "    using System;\n",
    "\n",
    "class Program\n",
    "{\n",
    "    static void Main()\n",
    "    {\n",
    "        Console.Write(\"Input the number of elements to be stored in the array: \");\n",
    "        int n = Convert.ToInt32(Console.ReadLine());\n",
    "\n",
    "        int[] array = new int[n];\n",
    "\n",
    "        Console.WriteLine($\"Input {n} elements in the array:\");\n",
    "\n",
    "        for (int i = 0; i < n; i++)\n",
    "        {\n",
    "            Console.Write($\"element - {i} : \");\n",
    "            array[i] = Convert.ToInt32(Console.ReadLine());\n",
    "        }\n",
    "\n",
    "        // Separate odd and even elements\n",
    "        int[] evenArray = new int[n];\n",
    "        int[] oddArray = new int[n];\n",
    "        int evenCount = 0, oddCount = 0;\n",
    "\n",
    "        foreach (int num in array)\n",
    "        {\n",
    "            if (num % 2 == 0)\n",
    "            {\n",
    "                evenArray[evenCount] = num;\n",
    "                evenCount++;\n",
    "            }\n",
    "            else\n",
    "            {\n",
    "                oddArray[oddCount] = num;\n",
    "                oddCount++;\n",
    "            }\n",
    "        }\n",
    "\n",
    "        // Display the results\n",
    "        Console.WriteLine(\"\\nThe Even elements are:\");\n",
    "        DisplayArray(evenArray, evenCount);\n",
    "\n",
    "        Console.WriteLine(\"\\nThe Odd elements are:\");\n",
    "        DisplayArray(oddArray, oddCount);\n",
    "    }\n",
    "\n",
    "    static void DisplayArray(int[] arr, int count)\n",
    "    {\n",
    "        for (int i = 0; i < count; i++)\n",
    "        {\n",
    "            Console.Write(arr[i] + \" \");\n",
    "        }\n",
    "        Console.WriteLine();\n",
    "    }\n",
    "}\n"
   ]
  },
  {
   "cell_type": "code",
   "execution_count": null,
   "id": "4ba89762",
   "metadata": {},
   "outputs": [],
   "source": [
    "QSTN NO:5\n",
    "    PART a\n",
    "\n",
    "using System;\n",
    "\n",
    "class Program\n",
    "{\n",
    "    static void Main()\n",
    "    {\n",
    "        // different cases\n",
    "        Console.WriteLine(Inside(1, 1, 0.3, 0.5, 1.1, 0.7));  //  True\n",
    "        Console.WriteLine(Inside(1, 1, 0.5, 0.2, 1.1, 2.0));  //  False\n",
    "    }\n",
    "\n",
    "    static bool Inside(double x, double y, double x1, double y1, double x2, double y2)\n",
    "    {\n",
    "        return x >= x1 && x <= x2 && y >= y1 && y <= y2;\n",
    "    }\n",
    "    \n",
    " \n"
   ]
  },
  {
   "cell_type": "code",
   "execution_count": null,
   "id": "6b8b7483",
   "metadata": {},
   "outputs": [],
   "source": [
    "#QSTN NO:5 PART B\n",
    "using System;\n",
    "\n",
    "class Program\n",
    "{\n",
    "    static void Main()\n",
    "    {\n",
    "        // different cases\n",
    "        bool inRectangle1 = Inside(1, 1, 0.3, 0.5, 1.1, 0.7);\n",
    "        bool inRectangle2 = Inside(1, 1, 0.5, 0.2, 1.1, 2.0);\n",
    "\n",
    "        // results\n",
    "        Console.WriteLine($\"Point (1, 1) is inside the first rectangle: {inRectangle1}\");\n",
    "        Console.WriteLine($\"Point (1, 1) is inside the second rectangle: {inRectangle2}\");\n",
    "    }\n",
    "\n",
    "    static bool Inside(double x, double y, double x1, double y1, double x2, double y2)\n",
    "    {\n",
    "        return x >= x1 && x <= x2 && y >= y1 && y <= y2;\n",
    "    }\n",
    "}\n",
    "\n",
    "\n",
    "\n",
    "\n",
    "    "
   ]
  },
  {
   "cell_type": "code",
   "execution_count": 13,
   "id": "bce20bb5",
   "metadata": {},
   "outputs": [
    {
     "name": "stdout",
     "output_type": "stream",
     "text": [
      "appyhay\n",
      "enterway\n",
      "encilpay\n",
      "otherway\n"
     ]
    }
   ],
   "source": [
    "# QSTN NO:6\n",
    "def pig(word):\n",
    "    # Convertion of the word to lowercase\n",
    "    word = word.lower()\n",
    "    \n",
    "    # for check if the word starts with a vowel\n",
    "    if word[0] in ['a', 'e', 'i', 'o', 'u']:\n",
    "        return word + 'way'\n",
    "    else:\n",
    "        # Move first consonent to the last and append 'ay'\n",
    "        return word[1:] + word[0] + 'ay'\n",
    "\n",
    "# Examples:\n",
    "print(pig('happy'))  # Output: 'appyhay'\n",
    "print(pig('enter'))  # Output: 'enterway'\n",
    "#given examples:\n",
    "print(pig('pencil'))  # Output: 'encilpay'\n",
    "print(pig('other'))  # Output: 'otherway'\n",
    "   "
   ]
  },
  {
   "cell_type": "code",
   "execution_count": null,
   "id": "f4bfc61e",
   "metadata": {},
   "outputs": [],
   "source": [
    "#qstn:3 ANSWERS\n",
    "\n",
    "#public class Areaoftriangle\n",
    "#{\n",
    " #   public static void Main(string[] args)\n",
    "  #  {\n",
    "   #   int a;\n",
    "    #    Console.WriteLine(\"Enter the first side of the triangle\");\n",
    "     #    a=int.Parse(Console.ReadLine());\n",
    "      #   Console.WriteLine(\"Enter the second side of the triangle\");\n",
    "       # int b=int.Parse(Console.ReadLine());\n",
    "        # Console.WriteLine(\"Enter the third side of the triangle\");\n",
    "       #int c=int.Parse(Console.ReadLine());\n",
    "        #double result = triangleArea(a, b, c);\n",
    "        #Console.WriteLine(result);\n",
    "   \n",
    "    #static double triangleArea(double a, double b, double c)\n",
    "    #{\n",
    "        \n",
    "     #   double s = (a + b + c) / 2;\n",
    "\n",
    "       \n",
    "      #  double area = Math.Sqrt(s * (s - a) * (s - b) * (s - c));\n",
    "\n",
    "#        return area;\n",
    " #   }\n",
    "#}\n"
   ]
  },
  {
   "cell_type": "code",
   "execution_count": 37,
   "id": "855e9384",
   "metadata": {},
   "outputs": [
    {
     "name": "stdout",
     "output_type": "stream",
     "text": [
      "There are  15 Patients of Blood Type A\n",
      "There are  1 Patients of Blood Type B\n",
      "There are  13 Patients of Blood Type AB\n",
      "There are  15 Patients of Blood Type O\n"
     ]
    }
   ],
   "source": [
    "#QSTNNO:7\n",
    "def count(filename):\n",
    "    infile = open(filename)\n",
    "    #Read file\n",
    "    content=infile.read()\n",
    "    infile.close()\n",
    "    wordList = content.split(' ')\n",
    "    A_count=wordList.count('A')\n",
    "    B_count=wordList.count('B')\n",
    "    AB_count=wordList.count('AB')\n",
    "    O_count=wordList.count('O')\n",
    "    print('There are ',A_count,'Patients of Blood Type A')\n",
    "    print('There are ',B_count,'Patients of Blood Type B')\n",
    "    print('There are ',AB_count,'Patients of Blood Type AB')\n",
    "    print('There are ',O_count,'Patients of Blood Type O')\n",
    "\n",
    "\n",
    "count('bloodtype1.txt')"
   ]
  },
  {
   "cell_type": "code",
   "execution_count": 32,
   "id": "791691a1",
   "metadata": {
    "scrolled": true
   },
   "outputs": [
    {
     "name": "stdout",
     "output_type": "stream",
     "text": [
      "result_eur: 122.96544\n",
      "result_jpy: 1.241401\n"
     ]
    }
   ],
   "source": [
    "#QSTN NO:8\n",
    "def curconv(currency, amount):\n",
    "    \n",
    "    currency_rates = {}\n",
    "    with open('currencies.txt', 'r') as file:\n",
    "        for line in file:\n",
    "            code, rate, *name = line.split()\n",
    "            currency_rates[code] = float(rate)\n",
    "\n",
    "    # Convert to US dollars\n",
    "    if currency.upper() in currency_rates:\n",
    "        us_dollars = amount * currency_rates[currency.upper()]\n",
    "        return us_dollars\n",
    "    else:\n",
    "        return \"Invalid code\"\n",
    "\n",
    "eur = curconv('EUR', 100)\n",
    "jpy = curconv('JPY', 100)\n",
    "\n",
    "print(f\"result_eur: {eur}\") \n",
    "print(f\"result_jpy: {jpy}\")"
   ]
  },
  {
   "cell_type": "code",
   "execution_count": 24,
   "id": "92e4fed4",
   "metadata": {},
   "outputs": [
    {
     "ename": "TypeError",
     "evalue": "unsupported operand type(s) for +: 'int' and 'str'",
     "output_type": "error",
     "traceback": [
      "\u001b[1;31m---------------------------------------------------------------------------\u001b[0m",
      "\u001b[1;31mTypeError\u001b[0m                                 Traceback (most recent call last)",
      "Cell \u001b[1;32mIn[24], line 3\u001b[0m\n\u001b[0;32m      1\u001b[0m \u001b[38;5;66;03m#Question9\u001b[39;00m\n\u001b[0;32m      2\u001b[0m \u001b[38;5;66;03m#Type error\u001b[39;00m\n\u001b[1;32m----> 3\u001b[0m \u001b[38;5;241m6\u001b[39m\u001b[38;5;241m+\u001b[39m\u001b[38;5;124m'\u001b[39m\u001b[38;5;124ma\u001b[39m\u001b[38;5;124m'\u001b[39m\n",
      "\u001b[1;31mTypeError\u001b[0m: unsupported operand type(s) for +: 'int' and 'str'"
     ]
    }
   ],
   "source": [
    "#Question9\n",
    "#Type error\n",
    "6+'a'"
   ]
  },
  {
   "cell_type": "code",
   "execution_count": 25,
   "id": "bb972ac6",
   "metadata": {},
   "outputs": [
    {
     "ename": "IndexError",
     "evalue": "list index out of range",
     "output_type": "error",
     "traceback": [
      "\u001b[1;31m---------------------------------------------------------------------------\u001b[0m",
      "\u001b[1;31mIndexError\u001b[0m                                Traceback (most recent call last)",
      "Cell \u001b[1;32mIn[25], line 4\u001b[0m\n\u001b[0;32m      1\u001b[0m \u001b[38;5;66;03m#question 9(b)\u001b[39;00m\n\u001b[0;32m      2\u001b[0m \u001b[38;5;66;03m#index error\u001b[39;00m\n\u001b[0;32m      3\u001b[0m \u001b[38;5;28mlist\u001b[39m  \u001b[38;5;241m=\u001b[39m[\u001b[38;5;241m7\u001b[39m,\u001b[38;5;241m14\u001b[39m,\u001b[38;5;241m21\u001b[39m,\u001b[38;5;241m28\u001b[39m,\u001b[38;5;241m35\u001b[39m]\n\u001b[1;32m----> 4\u001b[0m \u001b[38;5;28mprint\u001b[39m(\u001b[38;5;28mlist\u001b[39m[\u001b[38;5;241m12\u001b[39m])\n",
      "\u001b[1;31mIndexError\u001b[0m: list index out of range"
     ]
    }
   ],
   "source": [
    "#question 9(b)\n",
    "#index error\n",
    "list  =[7,14,21,28,35]\n",
    "print(list[12])"
   ]
  },
  {
   "cell_type": "markdown",
   "id": "a9302226",
   "metadata": {},
   "source": []
  },
  {
   "cell_type": "code",
   "execution_count": 26,
   "id": "7e0b22ae",
   "metadata": {},
   "outputs": [
    {
     "ename": "ValueError",
     "evalue": "math domain error",
     "output_type": "error",
     "traceback": [
      "\u001b[1;31m---------------------------------------------------------------------------\u001b[0m",
      "\u001b[1;31mValueError\u001b[0m                                Traceback (most recent call last)",
      "Cell \u001b[1;32mIn[26], line 3\u001b[0m\n\u001b[0;32m      1\u001b[0m \u001b[38;5;66;03m#Question9(c)\u001b[39;00m\n\u001b[0;32m      2\u001b[0m \u001b[38;5;28;01mimport\u001b[39;00m \u001b[38;5;21;01mmath\u001b[39;00m\n\u001b[1;32m----> 3\u001b[0m math\u001b[38;5;241m.\u001b[39msqrt(\u001b[38;5;241m-\u001b[39m\u001b[38;5;241m1.0\u001b[39m)\n",
      "\u001b[1;31mValueError\u001b[0m: math domain error"
     ]
    }
   ],
   "source": [
    "#Question9(c)\n",
    "#value Error\n",
    "import math\n",
    "math.sqrt(-1.0)\n"
   ]
  },
  {
   "cell_type": "code",
   "execution_count": 27,
   "id": "302332f9",
   "metadata": {},
   "outputs": [
    {
     "ename": "NameError",
     "evalue": "name 'x' is not defined",
     "output_type": "error",
     "traceback": [
      "\u001b[1;31m---------------------------------------------------------------------------\u001b[0m",
      "\u001b[1;31mNameError\u001b[0m                                 Traceback (most recent call last)",
      "Cell \u001b[1;32mIn[27], line 3\u001b[0m\n\u001b[0;32m      1\u001b[0m \u001b[38;5;66;03m#Question9(d)\u001b[39;00m\n\u001b[0;32m      2\u001b[0m \u001b[38;5;66;03m#NameError\u001b[39;00m\n\u001b[1;32m----> 3\u001b[0m \u001b[38;5;28mprint\u001b[39m(x)\n",
      "\u001b[1;31mNameError\u001b[0m: name 'x' is not defined"
     ]
    }
   ],
   "source": [
    "#Question9(d)\n",
    "#NameError\n",
    "print(x)"
   ]
  },
  {
   "cell_type": "code",
   "execution_count": 28,
   "id": "0f36d408",
   "metadata": {},
   "outputs": [
    {
     "ename": "FileNotFoundError",
     "evalue": "[Errno 2] No such file or directory: 'sanat.txt'",
     "output_type": "error",
     "traceback": [
      "\u001b[1;31m---------------------------------------------------------------------------\u001b[0m",
      "\u001b[1;31mFileNotFoundError\u001b[0m                         Traceback (most recent call last)",
      "Cell \u001b[1;32mIn[28], line 3\u001b[0m\n\u001b[0;32m      1\u001b[0m \u001b[38;5;66;03m#Question9(e)\u001b[39;00m\n\u001b[0;32m      2\u001b[0m \u001b[38;5;66;03m#FileNotFoundError\u001b[39;00m\n\u001b[1;32m----> 3\u001b[0m file \u001b[38;5;241m=\u001b[39m \u001b[38;5;28mopen\u001b[39m(\u001b[38;5;124m'\u001b[39m\u001b[38;5;124msanat.txt\u001b[39m\u001b[38;5;124m'\u001b[39m)\n",
      "File \u001b[1;32m~\\anaconda3\\Lib\\site-packages\\IPython\\core\\interactiveshell.py:286\u001b[0m, in \u001b[0;36m_modified_open\u001b[1;34m(file, *args, **kwargs)\u001b[0m\n\u001b[0;32m    279\u001b[0m \u001b[38;5;28;01mif\u001b[39;00m file \u001b[38;5;129;01min\u001b[39;00m {\u001b[38;5;241m0\u001b[39m, \u001b[38;5;241m1\u001b[39m, \u001b[38;5;241m2\u001b[39m}:\n\u001b[0;32m    280\u001b[0m     \u001b[38;5;28;01mraise\u001b[39;00m \u001b[38;5;167;01mValueError\u001b[39;00m(\n\u001b[0;32m    281\u001b[0m         \u001b[38;5;124mf\u001b[39m\u001b[38;5;124m\"\u001b[39m\u001b[38;5;124mIPython won\u001b[39m\u001b[38;5;124m'\u001b[39m\u001b[38;5;124mt let you open fd=\u001b[39m\u001b[38;5;132;01m{\u001b[39;00mfile\u001b[38;5;132;01m}\u001b[39;00m\u001b[38;5;124m by default \u001b[39m\u001b[38;5;124m\"\u001b[39m\n\u001b[0;32m    282\u001b[0m         \u001b[38;5;124m\"\u001b[39m\u001b[38;5;124mas it is likely to crash IPython. If you know what you are doing, \u001b[39m\u001b[38;5;124m\"\u001b[39m\n\u001b[0;32m    283\u001b[0m         \u001b[38;5;124m\"\u001b[39m\u001b[38;5;124myou can use builtins\u001b[39m\u001b[38;5;124m'\u001b[39m\u001b[38;5;124m open.\u001b[39m\u001b[38;5;124m\"\u001b[39m\n\u001b[0;32m    284\u001b[0m     )\n\u001b[1;32m--> 286\u001b[0m \u001b[38;5;28;01mreturn\u001b[39;00m io_open(file, \u001b[38;5;241m*\u001b[39margs, \u001b[38;5;241m*\u001b[39m\u001b[38;5;241m*\u001b[39mkwargs)\n",
      "\u001b[1;31mFileNotFoundError\u001b[0m: [Errno 2] No such file or directory: 'sanat.txt'"
     ]
    }
   ],
   "source": [
    "#Question9(e)\n",
    "#FileNotFoundError\n",
    "file = open('sanat.txt')"
   ]
  },
  {
   "cell_type": "code",
   "execution_count": 31,
   "id": "174473c0",
   "metadata": {},
   "outputs": [
    {
     "name": "stdout",
     "output_type": "stream",
     "text": [
      "[1, 1, 1, 3, 5, 1, 1, 2, 1, 0, 1, 0, 1, 2, 4, 0, 1, 2, 0, 2, 1, 0, 1, 1, 0, 0]\n",
      "[0, 0, 0, 0, 0, 0, 0, 0, 0, 0, 0, 0, 0, 0, 0, 0, 0, 0, 0, 0, 0, 0, 0, 0, 0, 0]\n"
     ]
    }
   ],
   "source": [
    "def frequencies(text):\n",
    "    letters = 'abcdefghijklmnopqrstuvwxyz'\n",
    "    result = [text.count(char) for char in letters]\n",
    "    return result\n",
    "\n",
    "#  cases\n",
    "print(frequencies('The quick red fox got bored and went home.'))\n",
    "# Output: [1, 1, 1, 3, 5, 1, 1, 2, 1, 0, 1, 0, 1, 2, 4, 0, 1, 2, 0, 2, 1, 0, 1, 1, 0, 0]\n",
    "\n",
    "print(frequencies('APPLE'))\n",
    "# Output: [1, 0, 0, 0, 1, 0, 0, 0, 0, 0, 0, 1, 0, 0, 0, 2, 0, 0, 0, 0, 0, 0, 0, 0, 0, 0]\n"
   ]
  },
  {
   "cell_type": "code",
   "execution_count": null,
   "id": "221c26e3",
   "metadata": {},
   "outputs": [],
   "source": []
  },
  {
   "cell_type": "code",
   "execution_count": null,
   "id": "acf4488b",
   "metadata": {},
   "outputs": [],
   "source": []
  }
 ],
 "metadata": {
  "kernelspec": {
   "display_name": "Python 3 (ipykernel)",
   "language": "python",
   "name": "python3"
  },
  "language_info": {
   "codemirror_mode": {
    "name": "ipython",
    "version": 3
   },
   "file_extension": ".py",
   "mimetype": "text/x-python",
   "name": "python",
   "nbconvert_exporter": "python",
   "pygments_lexer": "ipython3",
   "version": "3.11.5"
  }
 },
 "nbformat": 4,
 "nbformat_minor": 5
}
